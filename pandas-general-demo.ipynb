{
 "metadata": {
  "name": ""
 },
 "nbformat": 3,
 "nbformat_minor": 0,
 "worksheets": [
  {
   "cells": [
    {
     "cell_type": "code",
     "collapsed": true,
     "input": [
      "import numpy as np\n",
      "import pandas as pd\n",
      "\n",
      "import os  #getting csv file paths\n",
      "from __future__ import print_function  #use python 3 syntax for print()\n"
     ],
     "language": "python",
     "metadata": {},
     "outputs": [],
     "prompt_number": 3
    },
    {
     "cell_type": "heading",
     "level": 3,
     "metadata": {},
     "source": [
      "Numpy array, basic statistical functions"
     ]
    },
    {
     "cell_type": "code",
     "collapsed": false,
     "input": [
      "arr = np.array([[2, 4, 6, 8], [10, 20, 30, 40]])\n",
      "arr"
     ],
     "language": "python",
     "metadata": {},
     "outputs": [
      {
       "metadata": {},
       "output_type": "pyout",
       "prompt_number": 4,
       "text": [
        "array([[ 2,  4,  6,  8],\n",
        "       [10, 20, 30, 40]])"
       ]
      }
     ],
     "prompt_number": 4
    },
    {
     "cell_type": "code",
     "collapsed": false,
     "input": [
      "print(arr.mean(axis=0))  #means of columns\n",
      "print(arr.mean(axis=1))  #means of rows"
     ],
     "language": "python",
     "metadata": {},
     "outputs": [
      {
       "output_type": "stream",
       "stream": "stdout",
       "text": [
        "[  6.  12.  18.  24.]\n",
        "[  5.  25.]\n"
       ]
      }
     ],
     "prompt_number": 5
    },
    {
     "cell_type": "heading",
     "level": 3,
     "metadata": {},
     "source": [
      "pandas DataFrame"
     ]
    },
    {
     "cell_type": "code",
     "collapsed": false,
     "input": [
      "df = pd.DataFrame([[2, 4, 6, 8], [10, 20, 30, 40]])\n",
      "df"
     ],
     "language": "python",
     "metadata": {},
     "outputs": [
      {
       "html": [
        "<div style=\"max-height:1000px;max-width:1500px;overflow:auto;\">\n",
        "<table border=\"1\" class=\"dataframe\">\n",
        "  <thead>\n",
        "    <tr style=\"text-align: right;\">\n",
        "      <th></th>\n",
        "      <th>0</th>\n",
        "      <th>1</th>\n",
        "      <th>2</th>\n",
        "      <th>3</th>\n",
        "    </tr>\n",
        "  </thead>\n",
        "  <tbody>\n",
        "    <tr>\n",
        "      <th>0</th>\n",
        "      <td>  2</td>\n",
        "      <td>  4</td>\n",
        "      <td>  6</td>\n",
        "      <td>  8</td>\n",
        "    </tr>\n",
        "    <tr>\n",
        "      <th>1</th>\n",
        "      <td> 10</td>\n",
        "      <td> 20</td>\n",
        "      <td> 30</td>\n",
        "      <td> 40</td>\n",
        "    </tr>\n",
        "  </tbody>\n",
        "</table>\n",
        "<p>2 rows \u00d7 4 columns</p>\n",
        "</div>"
       ],
       "metadata": {},
       "output_type": "pyout",
       "prompt_number": 6,
       "text": [
        "    0   1   2   3\n",
        "0   2   4   6   8\n",
        "1  10  20  30  40\n",
        "\n",
        "[2 rows x 4 columns]"
       ]
      }
     ],
     "prompt_number": 6
    },
    {
     "cell_type": "code",
     "collapsed": false,
     "input": [
      "dict_ex = {'breakfast': [False, True, True, False, True], \n",
      "           'exercise_mins': [0, 30, 20, 15, 0],\n",
      "           'mood': ['cranky', 'optimistic', 'sullen', 'optimistic', 'optimistic']}\n",
      "day_labels = ['mon', 'tue', 'wed', 'thu', 'fri']\n",
      "\n",
      "\n",
      "df = pd.DataFrame(dict_ex, index=day_labels)\n",
      "df"
     ],
     "language": "python",
     "metadata": {},
     "outputs": [
      {
       "html": [
        "<div style=\"max-height:1000px;max-width:1500px;overflow:auto;\">\n",
        "<table border=\"1\" class=\"dataframe\">\n",
        "  <thead>\n",
        "    <tr style=\"text-align: right;\">\n",
        "      <th></th>\n",
        "      <th>breakfast</th>\n",
        "      <th>exercise_mins</th>\n",
        "      <th>mood</th>\n",
        "    </tr>\n",
        "  </thead>\n",
        "  <tbody>\n",
        "    <tr>\n",
        "      <th>mon</th>\n",
        "      <td> False</td>\n",
        "      <td>  0</td>\n",
        "      <td>     cranky</td>\n",
        "    </tr>\n",
        "    <tr>\n",
        "      <th>tue</th>\n",
        "      <td>  True</td>\n",
        "      <td> 30</td>\n",
        "      <td> optimistic</td>\n",
        "    </tr>\n",
        "    <tr>\n",
        "      <th>wed</th>\n",
        "      <td>  True</td>\n",
        "      <td> 20</td>\n",
        "      <td>     sullen</td>\n",
        "    </tr>\n",
        "    <tr>\n",
        "      <th>thu</th>\n",
        "      <td> False</td>\n",
        "      <td> 15</td>\n",
        "      <td> optimistic</td>\n",
        "    </tr>\n",
        "    <tr>\n",
        "      <th>fri</th>\n",
        "      <td>  True</td>\n",
        "      <td>  0</td>\n",
        "      <td> optimistic</td>\n",
        "    </tr>\n",
        "  </tbody>\n",
        "</table>\n",
        "<p>5 rows \u00d7 3 columns</p>\n",
        "</div>"
       ],
       "metadata": {},
       "output_type": "pyout",
       "prompt_number": 7,
       "text": [
        "    breakfast  exercise_mins        mood\n",
        "mon     False              0      cranky\n",
        "tue      True             30  optimistic\n",
        "wed      True             20      sullen\n",
        "thu     False             15  optimistic\n",
        "fri      True              0  optimistic\n",
        "\n",
        "[5 rows x 3 columns]"
       ]
      }
     ],
     "prompt_number": 7
    },
    {
     "cell_type": "code",
     "collapsed": false,
     "input": [
      "df.dtypes"
     ],
     "language": "python",
     "metadata": {},
     "outputs": [
      {
       "metadata": {},
       "output_type": "pyout",
       "prompt_number": 8,
       "text": [
        "breakfast          bool\n",
        "exercise_mins     int64\n",
        "mood             object\n",
        "dtype: object"
       ]
      }
     ],
     "prompt_number": 8
    },
    {
     "cell_type": "code",
     "collapsed": false,
     "input": [
      "df.loc['fri']"
     ],
     "language": "python",
     "metadata": {},
     "outputs": [
      {
       "metadata": {},
       "output_type": "pyout",
       "prompt_number": 9,
       "text": [
        "breakfast              True\n",
        "exercise_mins             0\n",
        "mood             optimistic\n",
        "Name: fri, dtype: object"
       ]
      }
     ],
     "prompt_number": 9
    },
    {
     "cell_type": "code",
     "collapsed": false,
     "input": [
      "df[df.mood == 'optimistic']"
     ],
     "language": "python",
     "metadata": {},
     "outputs": [
      {
       "html": [
        "<div style=\"max-height:1000px;max-width:1500px;overflow:auto;\">\n",
        "<table border=\"1\" class=\"dataframe\">\n",
        "  <thead>\n",
        "    <tr style=\"text-align: right;\">\n",
        "      <th></th>\n",
        "      <th>breakfast</th>\n",
        "      <th>exercise_mins</th>\n",
        "      <th>mood</th>\n",
        "    </tr>\n",
        "  </thead>\n",
        "  <tbody>\n",
        "    <tr>\n",
        "      <th>tue</th>\n",
        "      <td>  True</td>\n",
        "      <td> 30</td>\n",
        "      <td> optimistic</td>\n",
        "    </tr>\n",
        "    <tr>\n",
        "      <th>thu</th>\n",
        "      <td> False</td>\n",
        "      <td> 15</td>\n",
        "      <td> optimistic</td>\n",
        "    </tr>\n",
        "    <tr>\n",
        "      <th>fri</th>\n",
        "      <td>  True</td>\n",
        "      <td>  0</td>\n",
        "      <td> optimistic</td>\n",
        "    </tr>\n",
        "  </tbody>\n",
        "</table>\n",
        "<p>3 rows \u00d7 3 columns</p>\n",
        "</div>"
       ],
       "metadata": {},
       "output_type": "pyout",
       "prompt_number": 10,
       "text": [
        "    breakfast  exercise_mins        mood\n",
        "tue      True             30  optimistic\n",
        "thu     False             15  optimistic\n",
        "fri      True              0  optimistic\n",
        "\n",
        "[3 rows x 3 columns]"
       ]
      }
     ],
     "prompt_number": 10
    },
    {
     "cell_type": "markdown",
     "metadata": {},
     "source": [
      "- Columns in a **pandas.DataFrame** are described by the class **pandas.Series** when dealt with individually"
     ]
    },
    {
     "cell_type": "code",
     "collapsed": false,
     "input": [
      "series_one = df['mood']\n",
      "\n",
      "print(type(series_one))\n",
      "print()\n",
      "print(series_one)\n"
     ],
     "language": "python",
     "metadata": {},
     "outputs": [
      {
       "output_type": "stream",
       "stream": "stdout",
       "text": [
        "<class 'pandas.core.series.Series'>\n",
        "\n",
        "observer  day\n",
        "Fred      mon       angry\n",
        "          tue       angry\n",
        "          wed    vengeful\n",
        "          thu     content\n",
        "          fri     content\n",
        "Doug      mon      normal\n",
        "          tue      normal\n",
        "          wed      afraid\n",
        "Name: mood, dtype: object\n"
       ]
      }
     ],
     "prompt_number": 29
    },
    {
     "cell_type": "code",
     "collapsed": false,
     "input": [],
     "language": "python",
     "metadata": {},
     "outputs": []
    },
    {
     "cell_type": "heading",
     "level": 3,
     "metadata": {},
     "source": [
      "Hierarchical indexing"
     ]
    },
    {
     "cell_type": "code",
     "collapsed": false,
     "input": [
      "day_labels = ['mon', 'tue', 'wed', 'thu', 'fri']\n",
      "\n",
      "\n",
      "df_obs1 = pd.DataFrame({'breakfast': [False, True, True, False, True], \n",
      "                   'exercise_mins': [0, 30, 20, 15, 0],\n",
      "                  'mood': ['cranky', 'optimistic', 'sullen', 'optimistic', 'optimistic']}, \n",
      "                  index=day_labels)\n",
      "\n",
      "df_obs2 = pd.DataFrame({'breakfast': [True, True, True, True, False], \n",
      "                   'exercise_mins': [25, 10, 60, 60, 10],\n",
      "                  'mood': ['angry', 'angry', 'angry', 'angry', 'sleepy']}, \n",
      "                  index=day_labels)\n",
      "\n",
      "dflist = [df_obs1, df_obs2]\n",
      "\n",
      "# keymultiple keys\n",
      "df_h = pd.concat(dflist, \n",
      "                 axis=0,       #default: append new rows into existing columns\n",
      "                 join='outer', \n",
      "                 keys=['Bob', 'Ray'],  #corresponding to the two dataframes that are being concatenated\n",
      "                 names=['observer', 'day'],  #the two index rows for the new hierarchical dataframe\n",
      "                 )\n",
      "\n",
      "df_h"
     ],
     "language": "python",
     "metadata": {},
     "outputs": [
      {
       "html": [
        "<div style=\"max-height:1000px;max-width:1500px;overflow:auto;\">\n",
        "<table border=\"1\" class=\"dataframe\">\n",
        "  <thead>\n",
        "    <tr style=\"text-align: right;\">\n",
        "      <th></th>\n",
        "      <th></th>\n",
        "      <th>breakfast</th>\n",
        "      <th>exercise_mins</th>\n",
        "      <th>mood</th>\n",
        "    </tr>\n",
        "    <tr>\n",
        "      <th>observer</th>\n",
        "      <th>day</th>\n",
        "      <th></th>\n",
        "      <th></th>\n",
        "      <th></th>\n",
        "    </tr>\n",
        "  </thead>\n",
        "  <tbody>\n",
        "    <tr>\n",
        "      <th rowspan=\"5\" valign=\"top\">Bob</th>\n",
        "      <th>mon</th>\n",
        "      <td> False</td>\n",
        "      <td>  0</td>\n",
        "      <td>     cranky</td>\n",
        "    </tr>\n",
        "    <tr>\n",
        "      <th>tue</th>\n",
        "      <td>  True</td>\n",
        "      <td> 30</td>\n",
        "      <td> optimistic</td>\n",
        "    </tr>\n",
        "    <tr>\n",
        "      <th>wed</th>\n",
        "      <td>  True</td>\n",
        "      <td> 20</td>\n",
        "      <td>     sullen</td>\n",
        "    </tr>\n",
        "    <tr>\n",
        "      <th>thu</th>\n",
        "      <td> False</td>\n",
        "      <td> 15</td>\n",
        "      <td> optimistic</td>\n",
        "    </tr>\n",
        "    <tr>\n",
        "      <th>fri</th>\n",
        "      <td>  True</td>\n",
        "      <td>  0</td>\n",
        "      <td> optimistic</td>\n",
        "    </tr>\n",
        "    <tr>\n",
        "      <th rowspan=\"5\" valign=\"top\">Ray</th>\n",
        "      <th>mon</th>\n",
        "      <td>  True</td>\n",
        "      <td> 25</td>\n",
        "      <td>      angry</td>\n",
        "    </tr>\n",
        "    <tr>\n",
        "      <th>tue</th>\n",
        "      <td>  True</td>\n",
        "      <td> 10</td>\n",
        "      <td>      angry</td>\n",
        "    </tr>\n",
        "    <tr>\n",
        "      <th>wed</th>\n",
        "      <td>  True</td>\n",
        "      <td> 60</td>\n",
        "      <td>      angry</td>\n",
        "    </tr>\n",
        "    <tr>\n",
        "      <th>thu</th>\n",
        "      <td>  True</td>\n",
        "      <td> 60</td>\n",
        "      <td>      angry</td>\n",
        "    </tr>\n",
        "    <tr>\n",
        "      <th>fri</th>\n",
        "      <td> False</td>\n",
        "      <td> 10</td>\n",
        "      <td>     sleepy</td>\n",
        "    </tr>\n",
        "  </tbody>\n",
        "</table>\n",
        "<p>10 rows \u00d7 3 columns</p>\n",
        "</div>"
       ],
       "metadata": {},
       "output_type": "pyout",
       "prompt_number": 24,
       "text": [
        "             breakfast  exercise_mins        mood\n",
        "observer day                                     \n",
        "Bob      mon     False              0      cranky\n",
        "         tue      True             30  optimistic\n",
        "         wed      True             20      sullen\n",
        "         thu     False             15  optimistic\n",
        "         fri      True              0  optimistic\n",
        "Ray      mon      True             25       angry\n",
        "         tue      True             10       angry\n",
        "         wed      True             60       angry\n",
        "         thu      True             60       angry\n",
        "         fri     False             10      sleepy\n",
        "\n",
        "[10 rows x 3 columns]"
       ]
      }
     ],
     "prompt_number": 24
    },
    {
     "cell_type": "code",
     "collapsed": false,
     "input": [
      "df_h.loc['Bob']"
     ],
     "language": "python",
     "metadata": {},
     "outputs": [
      {
       "html": [
        "<div style=\"max-height:1000px;max-width:1500px;overflow:auto;\">\n",
        "<table border=\"1\" class=\"dataframe\">\n",
        "  <thead>\n",
        "    <tr style=\"text-align: right;\">\n",
        "      <th></th>\n",
        "      <th>breakfast</th>\n",
        "      <th>exercise_mins</th>\n",
        "      <th>mood</th>\n",
        "    </tr>\n",
        "    <tr>\n",
        "      <th>day</th>\n",
        "      <th></th>\n",
        "      <th></th>\n",
        "      <th></th>\n",
        "    </tr>\n",
        "  </thead>\n",
        "  <tbody>\n",
        "    <tr>\n",
        "      <th>mon</th>\n",
        "      <td> False</td>\n",
        "      <td>  0</td>\n",
        "      <td>     cranky</td>\n",
        "    </tr>\n",
        "    <tr>\n",
        "      <th>tue</th>\n",
        "      <td>  True</td>\n",
        "      <td> 30</td>\n",
        "      <td> optimistic</td>\n",
        "    </tr>\n",
        "    <tr>\n",
        "      <th>wed</th>\n",
        "      <td>  True</td>\n",
        "      <td> 20</td>\n",
        "      <td>     sullen</td>\n",
        "    </tr>\n",
        "    <tr>\n",
        "      <th>thu</th>\n",
        "      <td> False</td>\n",
        "      <td> 15</td>\n",
        "      <td> optimistic</td>\n",
        "    </tr>\n",
        "    <tr>\n",
        "      <th>fri</th>\n",
        "      <td>  True</td>\n",
        "      <td>  0</td>\n",
        "      <td> optimistic</td>\n",
        "    </tr>\n",
        "  </tbody>\n",
        "</table>\n",
        "<p>5 rows \u00d7 3 columns</p>\n",
        "</div>"
       ],
       "metadata": {},
       "output_type": "pyout",
       "prompt_number": 13,
       "text": [
        "    breakfast  exercise_mins        mood\n",
        "day                                     \n",
        "mon     False              0      cranky\n",
        "tue      True             30  optimistic\n",
        "wed      True             20      sullen\n",
        "thu     False             15  optimistic\n",
        "fri      True              0  optimistic\n",
        "\n",
        "[5 rows x 3 columns]"
       ]
      }
     ],
     "prompt_number": 13
    },
    {
     "cell_type": "code",
     "collapsed": false,
     "input": [
      "df_h.swaplevel(0, 1).loc['mon']"
     ],
     "language": "python",
     "metadata": {},
     "outputs": [
      {
       "html": [
        "<div style=\"max-height:1000px;max-width:1500px;overflow:auto;\">\n",
        "<table border=\"1\" class=\"dataframe\">\n",
        "  <thead>\n",
        "    <tr style=\"text-align: right;\">\n",
        "      <th></th>\n",
        "      <th>breakfast</th>\n",
        "      <th>exercise_mins</th>\n",
        "      <th>mood</th>\n",
        "    </tr>\n",
        "    <tr>\n",
        "      <th>observer</th>\n",
        "      <th></th>\n",
        "      <th></th>\n",
        "      <th></th>\n",
        "    </tr>\n",
        "  </thead>\n",
        "  <tbody>\n",
        "    <tr>\n",
        "      <th>Bob</th>\n",
        "      <td> False</td>\n",
        "      <td>  0</td>\n",
        "      <td> cranky</td>\n",
        "    </tr>\n",
        "    <tr>\n",
        "      <th>Ray</th>\n",
        "      <td>  True</td>\n",
        "      <td> 25</td>\n",
        "      <td>  angry</td>\n",
        "    </tr>\n",
        "  </tbody>\n",
        "</table>\n",
        "<p>2 rows \u00d7 3 columns</p>\n",
        "</div>"
       ],
       "metadata": {},
       "output_type": "pyout",
       "prompt_number": 14,
       "text": [
        "         breakfast  exercise_mins    mood\n",
        "observer                                 \n",
        "Bob          False              0  cranky\n",
        "Ray           True             25   angry\n",
        "\n",
        "[2 rows x 3 columns]"
       ]
      }
     ],
     "prompt_number": 14
    },
    {
     "cell_type": "code",
     "collapsed": false,
     "input": [
      "df_h[df_h.breakfast == True]"
     ],
     "language": "python",
     "metadata": {},
     "outputs": [
      {
       "html": [
        "<div style=\"max-height:1000px;max-width:1500px;overflow:auto;\">\n",
        "<table border=\"1\" class=\"dataframe\">\n",
        "  <thead>\n",
        "    <tr style=\"text-align: right;\">\n",
        "      <th></th>\n",
        "      <th></th>\n",
        "      <th>breakfast</th>\n",
        "      <th>exercise_mins</th>\n",
        "      <th>mood</th>\n",
        "    </tr>\n",
        "    <tr>\n",
        "      <th>observer</th>\n",
        "      <th>day</th>\n",
        "      <th></th>\n",
        "      <th></th>\n",
        "      <th></th>\n",
        "    </tr>\n",
        "  </thead>\n",
        "  <tbody>\n",
        "    <tr>\n",
        "      <th rowspan=\"3\" valign=\"top\">Bob</th>\n",
        "      <th>tue</th>\n",
        "      <td> True</td>\n",
        "      <td> 30</td>\n",
        "      <td> optimistic</td>\n",
        "    </tr>\n",
        "    <tr>\n",
        "      <th>wed</th>\n",
        "      <td> True</td>\n",
        "      <td> 20</td>\n",
        "      <td>     sullen</td>\n",
        "    </tr>\n",
        "    <tr>\n",
        "      <th>fri</th>\n",
        "      <td> True</td>\n",
        "      <td>  0</td>\n",
        "      <td> optimistic</td>\n",
        "    </tr>\n",
        "    <tr>\n",
        "      <th rowspan=\"4\" valign=\"top\">Ray</th>\n",
        "      <th>mon</th>\n",
        "      <td> True</td>\n",
        "      <td> 25</td>\n",
        "      <td>      angry</td>\n",
        "    </tr>\n",
        "    <tr>\n",
        "      <th>tue</th>\n",
        "      <td> True</td>\n",
        "      <td> 10</td>\n",
        "      <td>      angry</td>\n",
        "    </tr>\n",
        "    <tr>\n",
        "      <th>wed</th>\n",
        "      <td> True</td>\n",
        "      <td> 60</td>\n",
        "      <td>      angry</td>\n",
        "    </tr>\n",
        "    <tr>\n",
        "      <th>thu</th>\n",
        "      <td> True</td>\n",
        "      <td> 60</td>\n",
        "      <td>      angry</td>\n",
        "    </tr>\n",
        "  </tbody>\n",
        "</table>\n",
        "<p>7 rows \u00d7 3 columns</p>\n",
        "</div>"
       ],
       "metadata": {},
       "output_type": "pyout",
       "prompt_number": 15,
       "text": [
        "             breakfast  exercise_mins        mood\n",
        "observer day                                     \n",
        "Bob      tue      True             30  optimistic\n",
        "         wed      True             20      sullen\n",
        "         fri      True              0  optimistic\n",
        "Ray      mon      True             25       angry\n",
        "         tue      True             10       angry\n",
        "         wed      True             60       angry\n",
        "         thu      True             60       angry\n",
        "\n",
        "[7 rows x 3 columns]"
       ]
      }
     ],
     "prompt_number": 15
    },
    {
     "cell_type": "code",
     "collapsed": false,
     "input": [
      "print(df_h.index.levels[0])  #list of values for outer index\n",
      "\n",
      "for level in df_h.index.levels[0]:\n",
      "    level_table = df_h.loc[level]\n",
      "    print('===' * 15)\n",
      "    print(level)\n",
      "    print(level_table)    "
     ],
     "language": "python",
     "metadata": {},
     "outputs": [
      {
       "output_type": "stream",
       "stream": "stdout",
       "text": [
        "Index([u'Bob', u'Ray'], dtype='object')\n",
        "=============================================\n",
        "Bob\n",
        "    breakfast  exercise_mins        mood\n",
        "day                                     \n",
        "mon     False              0      cranky\n",
        "tue      True             30  optimistic\n",
        "wed      True             20      sullen\n",
        "thu     False             15  optimistic\n",
        "fri      True              0  optimistic\n",
        "\n",
        "[5 rows x 3 columns]\n",
        "=============================================\n",
        "Ray\n",
        "    breakfast  exercise_mins    mood\n",
        "day                                 \n",
        "mon      True             25   angry\n",
        "tue      True             10   angry\n",
        "wed      True             60   angry\n",
        "thu      True             60   angry\n",
        "fri     False             10  sleepy\n",
        "\n",
        "[5 rows x 3 columns]\n"
       ]
      }
     ],
     "prompt_number": 16
    },
    {
     "cell_type": "code",
     "collapsed": false,
     "input": [
      "df_rev = df_h.swaplevel(0,1)\n",
      "\n",
      "print(df_rev.index.levels[0])  #list of values for outer index\n",
      "\n",
      "for level in df_rev.index.levels[0]:\n",
      "    level_table = df_rev.loc[level]\n",
      "    print('===' * 15)\n",
      "    print(level)\n",
      "    print(level_table)   "
     ],
     "language": "python",
     "metadata": {},
     "outputs": [
      {
       "output_type": "stream",
       "stream": "stdout",
       "text": [
        "Index([u'mon', u'tue', u'wed', u'thu', u'fri'], dtype='object')\n",
        "=============================================\n",
        "mon\n",
        "         breakfast  exercise_mins    mood\n",
        "observer                                 \n",
        "Bob          False              0  cranky\n",
        "Ray           True             25   angry\n",
        "\n",
        "[2 rows x 3 columns]\n",
        "=============================================\n",
        "tue\n",
        "         breakfast  exercise_mins        mood\n",
        "observer                                     \n",
        "Bob           True             30  optimistic\n",
        "Ray           True             10       angry\n",
        "\n",
        "[2 rows x 3 columns]\n",
        "=============================================\n",
        "wed\n",
        "         breakfast  exercise_mins    mood\n",
        "observer                                 \n",
        "Bob           True             20  sullen\n",
        "Ray           True             60   angry\n",
        "\n",
        "[2 rows x 3 columns]\n",
        "=============================================\n",
        "thu\n",
        "         breakfast  exercise_mins        mood\n",
        "observer                                     \n",
        "Bob          False             15  optimistic\n",
        "Ray           True             60       angry\n",
        "\n",
        "[2 rows x 3 columns]\n",
        "=============================================\n",
        "fri\n",
        "         breakfast  exercise_mins        mood\n",
        "observer                                     \n",
        "Bob           True              0  optimistic\n",
        "Ray          False             10      sleepy\n",
        "\n",
        "[2 rows x 3 columns]\n"
       ]
      }
     ],
     "prompt_number": 17
    },
    {
     "cell_type": "heading",
     "level": 3,
     "metadata": {},
     "source": [
      "Basic stastistics with selectors"
     ]
    },
    {
     "cell_type": "code",
     "collapsed": false,
     "input": [
      "breakfast_days_only = df_h[df_h.breakfast == True]\n",
      "\n",
      "breakfast_days_only.exercise_mins.mean()"
     ],
     "language": "python",
     "metadata": {},
     "outputs": [
      {
       "metadata": {},
       "output_type": "pyout",
       "prompt_number": 18,
       "text": [
        "29.285714285714285"
       ]
      }
     ],
     "prompt_number": 18
    },
    {
     "cell_type": "heading",
     "level": 3,
     "metadata": {},
     "source": [
      "Pandas multi-indexed dataframe from a CSV file"
     ]
    },
    {
     "cell_type": "code",
     "collapsed": false,
     "input": [
      "#Pandas multi-indexed dataframe from a CSV file\n",
      "\n",
      "# testdata.csv contents:\n",
      "# ==================================================\n",
      "# observer, day, breakfast, exercise_mins, mood\n",
      "# Fred,     mon, FALSE,     0,             angry\n",
      "# Fred,     tue, FALSE,     0,             angry\n",
      "# Fred,     wed, FALSE,     120,             vengeful\n",
      "# Fred,     thu, TRUE,      15,             content\n",
      "# Fred,     fri, TRUE,      0,             content\n",
      "# Doug,     mon, TRUE,      20,             normal\n",
      "# Doug,     tue, TRUE,      20,             normal\n",
      "# Doug,     wed, FALSE,     120,             afraid\n",
      "\n",
      "\n",
      "\n",
      "df = pd.read_csv(\"example-data-weekdays.csv\", index_col=[0,1])\n",
      "df"
     ],
     "language": "python",
     "metadata": {},
     "outputs": [
      {
       "html": [
        "<div style=\"max-height:1000px;max-width:1500px;overflow:auto;\">\n",
        "<table border=\"1\" class=\"dataframe\">\n",
        "  <thead>\n",
        "    <tr style=\"text-align: right;\">\n",
        "      <th></th>\n",
        "      <th></th>\n",
        "      <th>breakfast</th>\n",
        "      <th>exercise_mins</th>\n",
        "      <th>mood</th>\n",
        "    </tr>\n",
        "    <tr>\n",
        "      <th>observer</th>\n",
        "      <th>day</th>\n",
        "      <th></th>\n",
        "      <th></th>\n",
        "      <th></th>\n",
        "    </tr>\n",
        "  </thead>\n",
        "  <tbody>\n",
        "    <tr>\n",
        "      <th rowspan=\"5\" valign=\"top\">Fred</th>\n",
        "      <th>mon</th>\n",
        "      <td> False</td>\n",
        "      <td>   0</td>\n",
        "      <td>    angry</td>\n",
        "    </tr>\n",
        "    <tr>\n",
        "      <th>tue</th>\n",
        "      <td> False</td>\n",
        "      <td>   0</td>\n",
        "      <td>    angry</td>\n",
        "    </tr>\n",
        "    <tr>\n",
        "      <th>wed</th>\n",
        "      <td> False</td>\n",
        "      <td> 120</td>\n",
        "      <td> vengeful</td>\n",
        "    </tr>\n",
        "    <tr>\n",
        "      <th>thu</th>\n",
        "      <td>  True</td>\n",
        "      <td>  15</td>\n",
        "      <td>  content</td>\n",
        "    </tr>\n",
        "    <tr>\n",
        "      <th>fri</th>\n",
        "      <td>  True</td>\n",
        "      <td>   0</td>\n",
        "      <td>  content</td>\n",
        "    </tr>\n",
        "    <tr>\n",
        "      <th rowspan=\"3\" valign=\"top\">Doug</th>\n",
        "      <th>mon</th>\n",
        "      <td>  True</td>\n",
        "      <td>  20</td>\n",
        "      <td>   normal</td>\n",
        "    </tr>\n",
        "    <tr>\n",
        "      <th>tue</th>\n",
        "      <td>  True</td>\n",
        "      <td>  20</td>\n",
        "      <td>   normal</td>\n",
        "    </tr>\n",
        "    <tr>\n",
        "      <th>wed</th>\n",
        "      <td> False</td>\n",
        "      <td> 120</td>\n",
        "      <td>   afraid</td>\n",
        "    </tr>\n",
        "  </tbody>\n",
        "</table>\n",
        "<p>8 rows \u00d7 3 columns</p>\n",
        "</div>"
       ],
       "metadata": {},
       "output_type": "pyout",
       "prompt_number": 19,
       "text": [
        "             breakfast  exercise_mins      mood\n",
        "observer day                                   \n",
        "Fred     mon     False              0     angry\n",
        "         tue     False              0     angry\n",
        "         wed     False            120  vengeful\n",
        "         thu      True             15   content\n",
        "         fri      True              0   content\n",
        "Doug     mon      True             20    normal\n",
        "         tue      True             20    normal\n",
        "         wed     False            120    afraid\n",
        "\n",
        "[8 rows x 3 columns]"
       ]
      }
     ],
     "prompt_number": 19
    },
    {
     "cell_type": "code",
     "collapsed": false,
     "input": [],
     "language": "python",
     "metadata": {},
     "outputs": [],
     "prompt_number": 19
    },
    {
     "cell_type": "code",
     "collapsed": false,
     "input": [],
     "language": "python",
     "metadata": {},
     "outputs": []
    }
   ],
   "metadata": {}
  }
 ]
}